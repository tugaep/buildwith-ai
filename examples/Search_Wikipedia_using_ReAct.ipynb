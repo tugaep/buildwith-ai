{
  "cells": [
    {
      "cell_type": "markdown",
      "metadata": {
        "id": "Tce3stUlHN0L"
      },
      "source": [
        "##### Copyright 2024 Google LLC."
      ]
    },
    {
      "cell_type": "code",
      "execution_count": null,
      "metadata": {
        "cellView": "form",
        "id": "tuOe1ymfHZPu"
      },
      "outputs": [],
      "source": [
        "# @title Licensed under the Apache License, Version 2.0 (the \"License\");\n",
        "# you may not use this file except in compliance with the License.\n",
        "# You may obtain a copy of the License at\n",
        "#\n",
        "# https://www.apache.org/licenses/LICENSE-2.0\n",
        "#\n",
        "# Unless required by applicable law or agreed to in writing, software\n",
        "# distributed under the License is distributed on an \"AS IS\" BASIS,\n",
        "# WITHOUT WARRANTIES OR CONDITIONS OF ANY KIND, either express or implied.\n",
        "# See the License for the specific language governing permissions and\n",
        "# limitations under the License."
      ]
    },
    {
      "cell_type": "markdown",
      "metadata": {
        "id": "vX-FA27MbYpQ"
      },
      "source": [
        "# Search Wikipedia using ReAct"
      ]
    },
    {
      "cell_type": "markdown",
      "metadata": {
        "id": "Pk4Y-PKWc3MU"
      },
      "source": [
        "<table align=\"left\">\n",
        "  <td>\n",
        "    <a target=\"_blank\" href=\"https://colab.research.google.com/github/google-gemini/cookbook/blob/gemini-1.5-archive/examples/Search_Wikipedia_using_ReAct.ipynb\"><img src=\"https://github.com/google-gemini/cookbook/blob/gemini-1.5-archive/images/colab_logo_32px.png?raw=1\" />Run in Google Colab</a>\n",
        "  </td>\n",
        "</table>"
      ]
    },
    {
      "cell_type": "markdown",
      "metadata": {
        "id": "sdkuZY1IdRal"
      },
      "source": [
        "This notebook is a minimal implementation of [ReAct: Synergizing Reasoning and Acting in Language Models](https://arxiv.org/abs/2210.03629) with the Google `gemini-1.5-flash` model. You'll use ReAct prompting to configure a model to search Wikipedia to find the answer to a user's question.\n"
      ]
    },
    {
      "cell_type": "markdown",
      "metadata": {
        "id": "PSr-BK-5meRo"
      },
      "source": [
        "In this walkthrough, you will learn how to:\n",
        "\n",
        "\n",
        "1.   Set up your development environment and API access to use Gemini.\n",
        "2.   Use a ReAct few-shot prompt.\n",
        "3.   Use the newly prompted model for multi-turn conversations (chat).\n",
        "4.   Connect the model to the **Wikipedia API**.\n",
        "5.  Have conversations with the model (try asking it questions like \"how tall is the Eiffel Tower?\") and watch it search Wikipedia.\n"
      ]
    },
    {
      "cell_type": "markdown",
      "metadata": {
        "id": "Ce4xbIDDXP7L"
      },
      "source": [
        "> Note: The non-source code materials on this page are licensed under Creative Commons - Attribution-ShareAlike CC-BY-SA 4.0, https://creativecommons.org/licenses/by-sa/4.0/legalcode."
      ]
    },
    {
      "cell_type": "markdown",
      "metadata": {
        "id": "lSkx3VHr3WYb"
      },
      "source": [
        "### Background\n",
        "\n",
        "  \n"
      ]
    },
    {
      "cell_type": "markdown",
      "metadata": {
        "id": "PqoT0ojAcV9P"
      },
      "source": [
        "[ReAct](https://arxiv.org/abs/2210.03629) is a prompting method which allows language models to create a trace of their thinking processes and the steps required to answer a user's questions. This improves human interpretability and trustworthiness. ReAct prompted models generate Thought-Action-Observation triplets for every iteration, as you'll soon see. Let's get started!"
      ]
    },
    {
      "cell_type": "markdown",
      "metadata": {
        "id": "cVvxnBG-thZG"
      },
      "source": [
        "## Setup\n"
      ]
    },
    {
      "cell_type": "code",
      "execution_count": 1,
      "metadata": {
        "id": "Twc_XZ7h7Bb4"
      },
      "outputs": [],
      "source": [
        "!pip install -q \"google-generativeai>=0.7.2\""
      ]
    },
    {
      "cell_type": "code",
      "execution_count": 2,
      "metadata": {
        "id": "7oZwkgQpfrLl",
        "colab": {
          "base_uri": "https://localhost:8080/"
        },
        "outputId": "f7c8f820-c307-4786-a896-2528ee763434"
      },
      "outputs": [
        {
          "output_type": "stream",
          "name": "stdout",
          "text": [
            "  Preparing metadata (setup.py) ... \u001b[?25l\u001b[?25hdone\n",
            "  Building wheel for wikipedia (setup.py) ... \u001b[?25l\u001b[?25hdone\n"
          ]
        }
      ],
      "source": [
        "!pip install -q wikipedia"
      ]
    },
    {
      "cell_type": "markdown",
      "metadata": {
        "id": "DVWIqdtbffau"
      },
      "source": [
        "Note: The [`wikipedia` package](https://pypi.org/project/wikipedia/) notes that it was \"designed for ease of use and simplicity, not for advanced use\", and that production or heavy use should instead \"use [Pywikipediabot](http://www.mediawiki.org/wiki/Manual:Pywikipediabot) or one of the other more advanced [Python MediaWiki API wrappers](http://en.wikipedia.org/wiki/Wikipedia:Creating_a_bot#Python)\"."
      ]
    },
    {
      "cell_type": "code",
      "execution_count": 3,
      "metadata": {
        "id": "Jz5HOLy47VX0"
      },
      "outputs": [],
      "source": [
        "import re\n",
        "import os\n",
        "\n",
        "import wikipedia\n",
        "from wikipedia.exceptions import DisambiguationError, PageError\n",
        "\n",
        "import google.generativeai as genai"
      ]
    },
    {
      "cell_type": "markdown",
      "metadata": {
        "id": "SAvjxTybuWw-"
      },
      "source": [
        "To run the following cell, your API key must be stored it in a Colab Secret named `GOOGLE_API_KEY`. If you don't already have an API key, or you're not sure how to create a Colab Secret, see the [Authentication](https://github.com/google-gemini/cookbook/blob/main/quickstarts/Authentication.ipynb) quickstart for an example."
      ]
    },
    {
      "cell_type": "code",
      "execution_count": 4,
      "metadata": {
        "id": "JAzIedGr9PdN"
      },
      "outputs": [],
      "source": [
        "from google.colab import userdata\n",
        "GOOGLE_API_KEY=userdata.get('GOOGLE_API_KEY')\n",
        "genai.configure(api_key=GOOGLE_API_KEY)"
      ]
    },
    {
      "cell_type": "markdown",
      "metadata": {
        "id": "Sqkwp87FumIp"
      },
      "source": [
        "## The ReAct prompt"
      ]
    },
    {
      "cell_type": "markdown",
      "metadata": {
        "id": "lLv9Kuuu5Ffs"
      },
      "source": [
        "The prompts used in the paper are available at [https://github.com/ysymyth/ReAct/tree/master/prompts](https://github.com/ysymyth/ReAct/tree/master/prompts)\n",
        "\n",
        "Here, you will be working with the following ReAct prompt with a few minor adjustments."
      ]
    },
    {
      "cell_type": "markdown",
      "metadata": {
        "id": "07ed55c29a1d"
      },
      "source": [
        "> Note: The prompt and in-context examples used here are borrowed from [https://github.com/ysymyth/ReAct](https://github.com/ysymyth/ReAct) which is published under a [MIT license](https://opensource.org/licenses/MIT)."
      ]
    },
    {
      "cell_type": "code",
      "execution_count": 14,
      "metadata": {
        "id": "g8klL8df4iXe"
      },
      "outputs": [],
      "source": [
        "model_instructions = \"\"\"Bir soru-cevap görevini, Düşünce (Thought), Eylem (Action) ve Gözlem (Observation) adımları arasında geçiş yaparak çöz.\n",
        "- Düşünce, mevcut durumu akıl yürüterek analiz eder.\n",
        "- Gözlem, bir eylemin çıktısından elde edilen bilgiyi anlamaktır.\n",
        "- Eylem ise üç tipten biri olabilir:\n",
        "\n",
        "(1) <search>başlık</search>: Verilen başlığı Vikipedi'de arar ve ilk paragrafı döner. Eğer bulunamazsa benzer başlık önerileri sunar.\n",
        "(2) <lookup>anahtar kelime</lookup>: Mevcut bağlamda geçen, verilen anahtar kelimeyi içeren bir sonraki cümleyi döner. (Tam eşleşme yapar, kelimeyi kısa tut.)\n",
        "(3) <finish>cevap</finish>: Cevabı döner ve görevi sonlandırır.\n",
        "\"\"\"\n"
      ]
    },
    {
      "cell_type": "markdown",
      "metadata": {
        "id": "Fw52CHAG0aRr"
      },
      "source": [
        "### Few-shot prompting to enable in-context learning with Gemini\n"
      ]
    },
    {
      "cell_type": "markdown",
      "metadata": {
        "id": "-jhaD4ChNv6M"
      },
      "source": [
        "While large language models show good understanding of the instructions they are prompted with, they still may perform poorly on complex tasks in a zero-shot setting. Hence, you will now provide a few examples along with your prompt to steer the model's output according to your needs. This in-context learning improves the model's performance significantly."
      ]
    },
    {
      "cell_type": "code",
      "execution_count": 23,
      "metadata": {
        "id": "tZ7vezr02qv0"
      },
      "outputs": [],
      "source": [
        "examples = \"\"\"\n",
        "İşte bazı örnekler.\n",
        "\n",
        "Soru\n",
        "Pikachu’nun evrimleştiği Pokémon hangisidir?\n",
        "\n",
        "Düşünce 1\n",
        "Pikachu’nun evrim geçirdiği Pokémon’u bulmalıyım. Bu yüzden Pikachu’yu aramalıyım.\n",
        "\n",
        "Eylem 1\n",
        "<search>Pikachu</search>\n",
        "\n",
        "Gözlem 1\n",
        "Pikachu, Elektrik tipi bir Pokémon’dur. Pichu’dan evrimleşir ve bir Thunder Stone (Yıldırım Taşı) ile Raichu’ya evrimleşir.\n",
        "\n",
        "Düşünce 2\n",
        "Pikachu, Raichu’ya evrimleşiyormuş. Bu sorunun cevabı Raichu’dur.\n",
        "\n",
        "Eylem 2\n",
        "<finish>Raichu</finish>\n",
        "\n",
        "Soru\n",
        "Charizard hangi Pokémon’un evrimleşmiş hâlidir?\n",
        "\n",
        "Düşünce 1\n",
        "Charizard’ın evrim zincirini öğrenmeliyim. Charizard’ı arayarak hangi Pokémon’dan evrimleştiğini bulabilirim.\n",
        "\n",
        "Eylem 1\n",
        "<search>Charizard</search>\n",
        "\n",
        "Gözlem 1\n",
        "Charizard, Fire/Flying (Ateş/Uçan) tipi bir Pokémon’dur. Charmander’dan evrimleşen Charmeleon’un son evrimidir.\n",
        "\n",
        "Düşünce 2\n",
        "Charizard, Charmeleon’dan evrimleşmiş, o da Charmander’dan geliyor. Ancak doğrudan bir önceki evrim Charmeleon’dur.\n",
        "\n",
        "Eylem 2\n",
        "<finish>Charmeleon</finish>\n",
        "\n",
        "Soru\n",
        "Mewtwo hangi yöntemle oluşturulmuştur?\n",
        "\n",
        "Düşünce 1\n",
        "Mewtwo’nun nasıl yaratıldığını öğrenmem gerekiyor. Mewtwo’yu aramalıyım.\n",
        "\n",
        "Eylem 1\n",
        "<search>Mewtwo</search>\n",
        "\n",
        "Gözlem 1\n",
        "Mewtwo, Pokémon evreninde genetik mühendislik ile Mew’den klonlanarak oluşturulmuş bir efsanevi Pokémon’dur.\n",
        "\n",
        "Düşünce 2\n",
        "Mewtwo, Mew’den genetik mühendislik ile oluşturulmuştur. Cevap budur.\n",
        "\n",
        "Eylem 2\n",
        "<finish>Genetik mühendislik ile Mew’den klonlanarak</finish>\n",
        "\"\"\"\n"
      ]
    },
    {
      "cell_type": "markdown",
      "metadata": {
        "id": "xeCImqiN3WiQ"
      },
      "source": [
        "Copy the instructions along with examples in a file called `model_instructions.txt`"
      ]
    },
    {
      "cell_type": "code",
      "execution_count": 24,
      "metadata": {
        "id": "ZyTfAdpk26oB"
      },
      "outputs": [],
      "source": [
        "ReAct_prompt = model_instructions + examples\n",
        "with open('model_instructions.txt', 'w') as f:\n",
        "  f.write(ReAct_prompt)"
      ]
    },
    {
      "cell_type": "markdown",
      "metadata": {
        "id": "Is8BIVQP3u95"
      },
      "source": [
        "## The Gemini-ReAct pipeline"
      ]
    },
    {
      "cell_type": "markdown",
      "metadata": {
        "id": "PqEwKVDgM1MF"
      },
      "source": [
        "### Setup"
      ]
    },
    {
      "cell_type": "markdown",
      "metadata": {
        "id": "T4M3lxEoM3k0"
      },
      "source": [
        "You will now build an end-to-end pipeline to facilitate multi-turn chat with the ReAct-prompted Gemini model."
      ]
    },
    {
      "cell_type": "code",
      "execution_count": 25,
      "metadata": {
        "id": "vssDZcroN-Ob"
      },
      "outputs": [],
      "source": [
        "class ReAct:\n",
        "  def __init__(self, model: str, ReAct_prompt: str | os.PathLike):\n",
        "    \"\"\"Prepares Gemini to follow a `Few-shot ReAct prompt` by imitating\n",
        "    `function calling` technique to generate both reasoning traces and\n",
        "    task-specific actions in an interleaved manner.\n",
        "\n",
        "    Args:\n",
        "        model: name to the model.\n",
        "        ReAct_prompt: ReAct prompt OR path to the ReAct prompt.\n",
        "    \"\"\"\n",
        "    self.model = genai.GenerativeModel(model)\n",
        "    self.chat = self.model.start_chat(history=[])\n",
        "    self.should_continue_prompting = True\n",
        "    self._search_history: list[str] = []\n",
        "    self._search_urls: list[str] = []\n",
        "\n",
        "    try:\n",
        "      # try to read the file\n",
        "      with open(ReAct_prompt, 'r') as f:\n",
        "        self._prompt = f.read()\n",
        "    except FileNotFoundError:\n",
        "      # assume that the parameter represents prompt itself rather than path to the prompt file.\n",
        "      self._prompt = ReAct_prompt\n",
        "\n",
        "  @property\n",
        "  def prompt(self):\n",
        "    return self._prompt\n",
        "\n",
        "  @classmethod\n",
        "  def add_method(cls, func):\n",
        "    setattr(cls, func.__name__, func)\n",
        "\n",
        "  @staticmethod\n",
        "  def clean(text: str):\n",
        "    \"\"\"Helper function for responses.\"\"\"\n",
        "    text = text.replace(\"\\n\", \" \")\n",
        "    return text"
      ]
    },
    {
      "cell_type": "markdown",
      "metadata": {
        "id": "xKfThpmhMZYZ"
      },
      "source": [
        "### Define tools\n"
      ]
    },
    {
      "cell_type": "markdown",
      "metadata": {
        "id": "dnvZ2jqdRHE1"
      },
      "source": [
        "As instructed by the prompt, the model will be generating **Thought-Action-Observation** traces, where every **Action** trace could be one of the following tokens:\n",
        "\n",
        "\n",
        "1.   </search/> : Perform a Wikipedia search via external API.\n",
        "2.   </lookup/> : Lookup for specific information on a page with the Wikipedia API.\n",
        "3.   </finish/> : Stop the execution of the model and return the answer.\n",
        "\n",
        "If the model encounters any of these tokens, the model should make use of the `tools` made available to the model. This understanding of the model to leverage acquired toolsets to collect information from the external world is often referred to as **function calling**. Therefore, the next goal is to imitate this function calling technique in order to allow ReAct prompted Gemini model to access the external groundtruth.\n",
        "\n",
        "The Gemini API supports function calling and you could use this feature to set up your tools. However, for this tutorial, you will learn to simulate it using `stop_sequences` parameter.\n",
        "\n",
        "\n",
        "Define the tools:"
      ]
    },
    {
      "cell_type": "markdown",
      "metadata": {
        "id": "ysHN4y4FPlJZ"
      },
      "source": [
        "#### Search\n",
        "Define a method to perform Wikipedia searches"
      ]
    },
    {
      "cell_type": "code",
      "execution_count": 26,
      "metadata": {
        "id": "yCRB4g4BNzak"
      },
      "outputs": [],
      "source": [
        "@ReAct.add_method\n",
        "def search(self, query: str):\n",
        "    \"\"\"Perfoms search on `query` via Wikipedia api and returns its summary.\n",
        "\n",
        "    Args:\n",
        "        query: Search parameter to query the Wikipedia API with.\n",
        "\n",
        "    Returns:\n",
        "        observation: Summary of Wikipedia search for `query` if found else\n",
        "        similar search results.\n",
        "    \"\"\"\n",
        "    observation = None\n",
        "    query = query.strip()\n",
        "    try:\n",
        "      # try to get the summary for requested `query` from the Wikipedia\n",
        "      observation = wikipedia.summary(query, sentences=4, auto_suggest=False)\n",
        "      wiki_url = wikipedia.page(query, auto_suggest=False).url\n",
        "      observation = self.clean(observation)\n",
        "\n",
        "      # if successful, return the first 2-3 sentences from the summary as model's context\n",
        "      observation = self.model.generate_content(f'Retun the first 2 or 3 \\\n",
        "      sentences from the following text: {observation}')\n",
        "      observation = observation.text\n",
        "\n",
        "      # keep track of the model's search history\n",
        "      self._search_history.append(query)\n",
        "      self._search_urls.append(wiki_url)\n",
        "      print(f\"Information Source: {wiki_url}\")\n",
        "\n",
        "    # if the page is ambiguous/does not exist, return similar search phrases for model's context\n",
        "    except (DisambiguationError, PageError) as e:\n",
        "      observation = f'Could not find [\"{query}\"].'\n",
        "      # get a list of similar search topics\n",
        "      search_results = wikipedia.search(query)\n",
        "      observation += f' Similar: {search_results}. You should search for one of those instead.'\n",
        "\n",
        "    return observation"
      ]
    },
    {
      "cell_type": "markdown",
      "metadata": {
        "id": "v3fUbHUsPyoF"
      },
      "source": [
        "#### Lookup\n",
        "Look for a specific phrase on the Wikipedia page."
      ]
    },
    {
      "cell_type": "code",
      "execution_count": 27,
      "metadata": {
        "id": "_F4kAF77O0E_"
      },
      "outputs": [],
      "source": [
        "@ReAct.add_method\n",
        "def lookup(self, phrase: str, context_length=200):\n",
        "    \"\"\"Searches for the `phrase` in the lastest Wikipedia search page\n",
        "    and returns number of sentences which is controlled by the\n",
        "    `context_length` parameter.\n",
        "\n",
        "    Args:\n",
        "        phrase: Lookup phrase to search for within a page. Generally\n",
        "        attributes to some specification of any topic.\n",
        "\n",
        "        context_length: Number of words to consider\n",
        "        while looking for the answer.\n",
        "\n",
        "    Returns:\n",
        "        result: Context related to the `phrase` within the page.\n",
        "    \"\"\"\n",
        "    # get the last searched Wikipedia page and find `phrase` in it.\n",
        "    page = wikipedia.page(self._search_history[-1], auto_suggest=False)\n",
        "    page = page.content\n",
        "    page = self.clean(page)\n",
        "    start_index = page.find(phrase)\n",
        "\n",
        "    # extract sentences considering the context length defined\n",
        "    result = page[max(0, start_index - context_length):start_index+len(phrase)+context_length]\n",
        "    print(f\"Information Source: {self._search_urls[-1]}\")\n",
        "    return result"
      ]
    },
    {
      "cell_type": "markdown",
      "metadata": {
        "id": "Tc4mq2qlQCnE"
      },
      "source": [
        "#### Finish\n",
        "Instruct the pipline to terminate its execution."
      ]
    },
    {
      "cell_type": "code",
      "execution_count": 28,
      "metadata": {
        "id": "0Wxpx8COPak_"
      },
      "outputs": [],
      "source": [
        "@ReAct.add_method\n",
        "def finish(self, _):\n",
        "  \"\"\"Finishes the conversation on encountering <finish> token by\n",
        "  setting the `self.should_continue_prompting` flag to `False`.\n",
        "  \"\"\"\n",
        "  self.should_continue_prompting = False\n",
        "  print(f\"Information Sources: {self._search_urls}\")"
      ]
    },
    {
      "cell_type": "markdown",
      "metadata": {
        "id": "u9Tl6W98Zhut"
      },
      "source": [
        "### Stop tokens and function calling imitation"
      ]
    },
    {
      "cell_type": "markdown",
      "metadata": {
        "id": "0VnX9zpBcdA0"
      },
      "source": [
        "Now that you are all set with function definitions, the next step is to instruct the model to interrupt its execution upon encountering any of the action tokens. You will make use of the `stop_sequences` parameter from [`genai.GenerativeModel.GenerationConfig`](https://ai.google.dev/api/python/google/generativeai/GenerationConfig) class to instruct the model when to stop. Upon encountering an action token, the pipeline will simply extract what specific token from the `stop_sequences` argument terminated the model's execution, and then call the appropriate **tool** (function).\n",
        "\n",
        "The function's response will be added to model's chat history for continuing the context link."
      ]
    },
    {
      "cell_type": "code",
      "execution_count": 29,
      "metadata": {
        "id": "vnQom1aQOsK8"
      },
      "outputs": [],
      "source": [
        "@ReAct.add_method\n",
        "def __call__(self, user_question, max_calls: int=8, **generation_kwargs):\n",
        "  \"\"\"Starts multi-turn conversation with the chat models with function calling\n",
        "\n",
        "  Args:\n",
        "      max_calls: max calls made to the model to get the final answer.\n",
        "\n",
        "      generation_kwargs: Same as genai.GenerativeModel.GenerationConfig\n",
        "              candidate_count: (int | None) = None,\n",
        "              stop_sequences: (Iterable[str] | None) = None,\n",
        "              max_output_tokens: (int | None) = None,\n",
        "              temperature: (float | None) = None,\n",
        "              top_p: (float | None) = None,\n",
        "              top_k: (int | None) = None\n",
        "\n",
        "  Raises:\n",
        "      AssertionError: if max_calls is not between 1 and 8\n",
        "  \"\"\"\n",
        "\n",
        "  # hyperparameter fine-tuned according to the paper\n",
        "  assert 0 < max_calls <= 8, \"max_calls must be between 1 and 8\"\n",
        "\n",
        "  if len(self.chat.history) == 0:\n",
        "    model_prompt = self.prompt.format(question=user_question)\n",
        "  else:\n",
        "    model_prompt = user_question\n",
        "\n",
        "  # stop_sequences for the model to immitate function calling\n",
        "  callable_entities = ['</search>', '</lookup>', '</finish>']\n",
        "\n",
        "  generation_kwargs.update({'stop_sequences': callable_entities})\n",
        "\n",
        "  self.should_continue_prompting = True\n",
        "  for idx in range(max_calls):\n",
        "\n",
        "    self.response = self.chat.send_message(content=[model_prompt],\n",
        "              generation_config=generation_kwargs, stream=False)\n",
        "\n",
        "    for chunk in self.response:\n",
        "      print(chunk.text, end=' ')\n",
        "\n",
        "    response_cmd = self.chat.history[-1].parts[-1].text\n",
        "\n",
        "    try:\n",
        "      # regex to extract <function name writen in between angular brackets>\n",
        "      cmd = re.findall(r'<(.*)>', response_cmd)[-1]\n",
        "      print(f'</{cmd}>')\n",
        "      # regex to extract param\n",
        "      query = response_cmd.split(f'<{cmd}>')[-1].strip()\n",
        "      # call to appropriate function\n",
        "      observation = self.__getattribute__(cmd)(query)\n",
        "\n",
        "      if not self.should_continue_prompting:\n",
        "        break\n",
        "\n",
        "      stream_message = f\"\\nObservation {idx + 1}\\n{observation}\"\n",
        "      print(stream_message)\n",
        "      # send function's output as user's response\n",
        "      model_prompt = f\"<{cmd}>{query}</{cmd}>'s Output: {stream_message}\"\n",
        "\n",
        "    except (IndexError, AttributeError) as e:\n",
        "      model_prompt = \"Please try to generate thought-action-observation traces \\\n",
        "      as instructed by the prompt.\""
      ]
    },
    {
      "cell_type": "markdown",
      "metadata": {
        "id": "xtndhebkhW62"
      },
      "source": [
        "### Test ReAct prompted Gemini model"
      ]
    },
    {
      "cell_type": "code",
      "execution_count": 30,
      "metadata": {
        "id": "h_KWkXWwfZ5h",
        "colab": {
          "base_uri": "https://localhost:8080/",
          "height": 1000
        },
        "outputId": "336dae01-476c-4a91-ff58-508625ecd8c0"
      },
      "outputs": [
        {
          "output_type": "stream",
          "name": "stdout",
          "text": [
            "Soru:  Bulbasaur'un evrimleşmiş hali nedir?\n",
            "\n",
            "Düşünce 1: Bulbasaur'un evrim zincirini bulmam gerekiyor.  Bunun için Vikipedi'de Bulbasaur'u aramam lazım.\n",
            "\n",
            "Eylem 1: <search>Bulbasaur </search>\n",
            "Information Source: https://en.wikipedia.org/wiki/Bulbasaur\n",
            "\n",
            "Observation 1\n",
            "Bulbasaur ( ), known as Fushigidane (Japanese: フシギダネ) in Japan, is a fictional Pokémon species in Nintendo and Game Freak's Pokémon franchise.  First introduced in the video games Pokémon Red and Blue, it was created by Atsuko Nishida with the design finalized by Ken Sugimori.\n",
            "\n",
            "Düşünce 2:  Gözlem 1, Bulbasaur'un evrimleşmiş halini belirtmiyor.  Daha fazla bilgi bulmak için Bulbasaur'un evrim aşamalarını aramam gerekiyor veya Bulbasaur'un evrimleşmiş halini doğrudan aramayı deneyebilirim.\n",
            "\n",
            "Eylem 2: <search>Bulbasaur evolution\n",
            "\n",
            " </search>\n",
            "\n",
            "Observation 2\n",
            "Could not find [\"Bulbasaur evolution\"]. Similar: ['Bulbasaur', 'List of generation I Pokémon', 'Squirtle', 'Pokémon: Mewtwo Strikes Back – Evolution', 'Charizard', 'Eevee', 'Ditto (Pokémon)', 'Butterfree', 'Pokémon: Indigo League', 'List of Pokémon']. You should search for one of those instead.\n",
            "Düşünce 3:  \"Bulbasaur evolution\" araması sonuçsuz kaldı.  Benzer arama önerileri arasında \"Bulbasaur\" var, ancak bu zaten denendi.  \"List of generation I Pokémon\"  listesinde Bulbasaur'un evrimini bulabilirim.\n",
            "\n",
            "Eylem 3: <search>List of generation I Pokémon </search>\n",
            "Information Source: https://en.wikipedia.org/wiki/List_of_generation_I_Pok%C3%A9mon\n",
            "\n",
            "Observation 3\n",
            "The first generation (generation I) of the Pokémon franchise features the original 151 fictional species of monsters introduced to the core video game series in the 1996 Game Boy games Pocket Monsters Red, Green and Blue (known as Pokémon Red, Green and Blue outside of Japan).  Later, Pokemon Yellow and Blue were released in Japan.\n",
            "\n",
            "Düşünce 4: Gözlem 3, 1. nesil Pokémonların listesini içeriyor ancak spesifik evrim bilgilerini vermiyor.  Daha doğrudan bir yaklaşım denemeliyim.  Bulbasaur'un evrimleşmiş halini doğrudan sorgulayabilirim.\n",
            "\n",
            "Eylem 4: <search>What does Bulbasaur evolve into\n",
            "\n",
            " </search>\n",
            "\n",
            "Observation 4\n",
            "Could not find [\"What does Bulbasaur evolve into\"]. Similar: ['Bulbasaur', 'List of generation I Pokémon', 'Charizard', 'List of generation II Pokémon', 'Eevee', 'Ditto (Pokémon)', 'Magical Pokémon Journey', 'Cubone', 'Pokémon: Indigo League', 'Magikarp and Gyarados']. You should search for one of those instead.\n",
            "Düşünce 5:  Tekrar başarısız bir arama.  \"Bulbasaur\" zaten denendi.  Diğer öneriler de direkt olarak cevabı içermiyor gibi görünüyor.  Strateji değiştirmeliyim.  Belki de Bulbasaur'un genel bilgilerini içeren bir sayfada evrim bilgisi de bulunabilir.\n",
            "\n",
            "Eylem 5: <search>Bulbasaur Pokédex\n",
            "\n",
            "\n",
            " </search>\n",
            "\n",
            "Observation 5\n",
            "Could not find [\"Bulbasaur Pokédex\"]. Similar: ['Bulbasaur', 'List of generation I Pokémon', 'List of Pokémon', 'Ditto (Pokémon)', 'Psyduck', 'List of Pokémon characters', 'Haunter (Pokémon)', 'List of generation III Pokémon', 'Eevee', 'MissingNo.']. You should search for one of those instead.\n",
            "Düşünce 6:  \"Bulbasaur Pokédex\" araması da başarısız oldu.  Görünüşe göre Vikipedi'de bu bilgiyi doğrudan içeren bir sayfa yok veya arama terimleri yeterince spesifik değil.  Başka bir yaklaşım denemeliyim.  Belki de genel bir Pokémon evrim listesi daha faydalı olur.\n",
            "\n",
            "Eylem 6: <search>Pokémon evolution chart Generation 1\n",
            "\n",
            "\n",
            " </search>\n",
            "\n",
            "Observation 6\n",
            "Could not find [\"Pokémon evolution chart Generation 1\"]. Similar: ['List of generation III Pokémon', 'List of generation II Pokémon', 'List of Pokémon', 'Pokémon (video game series)', 'Pokémon X and Y', 'Pokémon Ultra Sun and Ultra Moon', 'Pokémon Go', 'Pokémon Legends: Arceus', 'Pokémon Trading Card Game', 'Pokémon HeartGold and SoulSilver']. You should search for one of those instead.\n",
            "Düşünce 7:  Bir kez daha başarısız bir arama.  Görünüşe göre Vikipedi'de aradığım bilgiyi doğrudan veren bir sayfa yok.  Mevcut bilgilerle cevabı veremem.  Daha fazla bilgiye ihtiyacım var.  Kullanıcıya daha spesifik bir arama öneriyorum.\n",
            "\n",
            "Eylem 7: <finish> Maalesef, Bulbasaur'un evrimleşmiş halini bulmak için yeterli bilgiye ulaşamadım.  Daha spesifik bir arama terimi veya farklı bir bilgi kaynağı kullanmanız gerekebilir.\n",
            " </finish>\n",
            "Information Sources: ['https://en.wikipedia.org/wiki/Bulbasaur', 'https://en.wikipedia.org/wiki/List_of_generation_I_Pok%C3%A9mon']\n"
          ]
        }
      ],
      "source": [
        "gemini_ReAct_chat = ReAct(model='gemini-1.5-flash', ReAct_prompt='model_instructions.txt')\n",
        "# Note: try different combinations of generational_config parameters for variational results\n",
        "gemini_ReAct_chat(\"Pokémon evreninde Mewtwo nasıl yaratılmıştır?\", temperature=0.2)"
      ]
    },
    {
      "cell_type": "markdown",
      "metadata": {
        "id": "ZIfeyyI6hoIE"
      },
      "source": [
        "Now, try asking the same question to `gemini-1.5-flash` model without the ReAct prompt."
      ]
    },
    {
      "cell_type": "code",
      "execution_count": 31,
      "metadata": {
        "id": "_NUXNbTuakSC",
        "colab": {
          "base_uri": "https://localhost:8080/",
          "height": 89
        },
        "outputId": "d2021862-5973-41cf-a165-b48007f84188"
      },
      "outputs": [
        {
          "output_type": "execute_result",
          "data": {
            "text/plain": [
              "'Pikachu ismi Japonca\\'dan geliyor.  \"Pika\" kelimesi, farelerin ve diğer küçük kemirgenlerin çıkardığı sesi taklit ederken, \"chu\" ise elektrikli bir şok sesini taklit eder.  Yani, ismin kendisi, Pikachu\\'nun görünüşünü ve yeteneklerini (elektrik gücü) açıkça yansıtıyor.  Dolayısıyla, isminin direkt bir anlamı yoktur, ancak onomatopeik (ses taklidi) bir bileşimdir.\\n'"
            ],
            "application/vnd.google.colaboratory.intrinsic+json": {
              "type": "string"
            }
          },
          "metadata": {},
          "execution_count": 31
        }
      ],
      "source": [
        "gemini_ReAct_chat.model.generate_content(\"Pikachu ismi ne anlama geliyor ve nereden geliyor?\").text"
      ]
    },
    {
      "cell_type": "markdown",
      "metadata": {
        "id": "B-jsJSyBtrP8"
      },
      "source": [
        "## Summary\n",
        "\n",
        "The ReAct prompted Gemini model is grounded by external information sources and hence is less prone to hallucination. Furthermore, Thought-Action-Observation  traces generated by the model enhance human interpretability and trustworthiness by allowing users to witness the model's reasoning process for answering the user's query.\n"
      ]
    },
    {
      "cell_type": "markdown",
      "metadata": {
        "id": "vmdNYTm5Lobz"
      },
      "source": [
        "## Next steps\n"
      ]
    },
    {
      "cell_type": "markdown",
      "metadata": {
        "id": "iTiDOoTkLvH6"
      },
      "source": [
        "Head over to this [Streamlit app](https://mayochat.streamlit.app/) to interact with a ReAct prompted Gemini bot built with this code."
      ]
    }
  ],
  "metadata": {
    "colab": {
      "name": "Search_Wikipedia_using_ReAct.ipynb",
      "toc_visible": true,
      "provenance": []
    },
    "kernelspec": {
      "display_name": "Python 3",
      "name": "python3"
    }
  },
  "nbformat": 4,
  "nbformat_minor": 0
}